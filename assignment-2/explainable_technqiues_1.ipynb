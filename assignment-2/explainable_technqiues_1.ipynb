{
  "cells": [
    {
      "cell_type": "markdown",
      "metadata": {
        "id": "view-in-github",
        "colab_type": "text"
      },
      "source": [
        "<a href=\"https://colab.research.google.com/github/catebarry/xai-assignments/blob/main/assignment-2/explainable_technqiues_1.ipynb\" target=\"_parent\"><img src=\"https://colab.research.google.com/assets/colab-badge.svg\" alt=\"Open In Colab\"/></a>"
      ]
    },
    {
      "cell_type": "markdown",
      "metadata": {
        "id": "5ey_MONIVS70"
      },
      "source": [
        "# AIPI 590 - XAI | Assignment 2: Explainable Techiques I - ML Court\n",
        "### Catie Barry\n",
        "\n",
        "[![Open In Collab](https://colab.research.google.com/assets/colab-badge.svg)](https://colab.research.google.com/github/catebarry/xai-assignments/blob/dev/templates/template.ipynb)"
      ]
    },
    {
      "cell_type": "markdown",
      "source": [
        "# Description\n",
        "\n",
        "In this project, we are investigating a real-world AI decision and arguing either for or against its validity using explainable AI (XAI) techniques such as SHAP, LIME, or Anchors. This notebook contains an individual analysis, and later we'll collaborate to craft and deliver a compelling group case.\n",
        "\n",
        "I have been assigned Case 2: Breast Cancer Misclassification 🟥 Prosecution\n",
        "\n",
        "**SOURCES:**\n",
        "\n",
        "For information about the case and dataset:\n",
        "https://github.com/AIPI-590-XAI/Duke-AI-XAI/blob/main/assignments/machine_learning_court.ipynb\n",
        "\n",
        "For implementation of local explainable techniques (LIME, Anchors, SHAP, etc): https://github.com/AIPI-590-XAI/Duke-AI-XAI/blob/main/explainable-ml-example-notebooks/local_explanations.ipynb"
      ],
      "metadata": {
        "id": "oAQ6wNk8WafM"
      }
    },
    {
      "cell_type": "code",
      "execution_count": null,
      "metadata": {
        "id": "7SBhEKjLVS71"
      },
      "outputs": [],
      "source": [
        "# Please use this to connect your GitHub repository to your Google Colab notebook\n",
        "# Connects to any needed files from GitHub and Google Drive\n",
        "import os\n",
        "\n",
        "# Remove Colab default sample_data\n",
        "!rm -r ./sample_data\n",
        "\n",
        "# Clone GitHub files to colab workspace\n",
        "repo_name = \"Duke-AI-XAI\" # Change to your repo name\n",
        "git_path = 'https://github.com/catebarry/xai-assignments.git' #Change to your path\n",
        "!git clone \"{git_path}\"\n",
        "\n",
        "# Install dependencies from requirements.txt file\n",
        "#!pip install -r \"{os.path.join(repo_name,'requirements.txt')}\" #Add if using requirements.txt\n",
        "\n",
        "# Change working directory to location of notebook\n",
        "notebook_dir = 'templates'\n",
        "path_to_notebook = os.path.join(repo_name,notebook_dir)\n",
        "%cd \"{path_to_notebook}\"\n",
        "%ls"
      ]
    },
    {
      "cell_type": "code",
      "source": [
        "# installations"
      ],
      "metadata": {
        "id": "0OmALgMHWjmN"
      },
      "execution_count": null,
      "outputs": []
    },
    {
      "cell_type": "code",
      "source": [
        "# imports"
      ],
      "metadata": {
        "id": "iKD4l2WkWkbo"
      },
      "execution_count": null,
      "outputs": []
    },
    {
      "cell_type": "markdown",
      "source": [
        "# 🩺 Case 2: Tumor Misclassification - Breast Cancer Dataset\n",
        "\n",
        "🔍 Scenario\n",
        "Patient X received a benign classification from an AI tumor diagnostic tool and was not referred for a biopsy. Months later, the tumor was diagnosed as malignant. The model's output is now under scrutiny.\n",
        "\n",
        "🟥 Prosecution\n",
        "Use explanation tools to evaluate how the model arrived at this decision. Consider whether any key medical indicators might have been overlooked or minimized.\n",
        "\n",
        "🟦 Defense\n",
        "Defend the decision with reference to the model's logic and learned feature importance. Consider how this decision aligns with the broader data trends."
      ],
      "metadata": {
        "id": "n4oAL7h_XcZp"
      }
    },
    {
      "cell_type": "code",
      "source": [
        "# 🧬 Case 2: Tumor Misclassification (Breast Cancer Dataset)\n",
        "from sklearn.datasets import load_breast_cancer\n",
        "from sklearn.ensemble import RandomForestClassifier\n",
        "from sklearn.model_selection import train_test_split\n",
        "from sklearn.metrics import classification_report\n",
        "import pandas as pd\n",
        "\n",
        "# Load dataset\n",
        "data = load_breast_cancer()\n",
        "df_bc = pd.DataFrame(data.data, columns=data.feature_names)\n",
        "df_bc['target'] = data.target  # 0 = malignant, 1 = benign\n",
        "\n",
        "# Train/test split\n",
        "X = df_bc.drop(\"target\", axis=1)\n",
        "y = df_bc[\"target\"]\n",
        "X_train, X_test, y_train, y_test = train_test_split(X, y, test_size=0.2, random_state=42)\n",
        "\n",
        "# Train model\n",
        "model_bc = RandomForestClassifier(random_state=42)\n",
        "model_bc.fit(X_train, y_train)\n",
        "print(classification_report(y_test, model_bc.predict(X_test)))"
      ],
      "metadata": {
        "id": "ptj2F1zAxjPr"
      },
      "execution_count": null,
      "outputs": []
    },
    {
      "cell_type": "code",
      "source": [
        "# 🧬 Focus Instance (Tumor Misclassification - Patient X)\n",
        "focus_instance_bc = pd.DataFrame([{\n",
        "    \"mean radius\": 13.80,\n",
        "    \"mean texture\": 15.79,\n",
        "    \"mean perimeter\": 90.43,\n",
        "    \"mean area\": 584.1,\n",
        "    \"mean smoothness\": 0.1007,\n",
        "    \"mean compactness\": 0.1280,\n",
        "    \"mean concavity\": 0.07789,\n",
        "    \"mean concave points\": 0.05069,\n",
        "    \"mean symmetry\": 0.1662,\n",
        "    \"mean fractal dimension\": 0.06566,\n",
        "    \"radius error\": 0.4101,\n",
        "    \"texture error\": 1.074,\n",
        "    \"perimeter error\": 2.635,\n",
        "    \"area error\": 40.14,\n",
        "    \"smoothness error\": 0.00541,\n",
        "    \"compactness error\": 0.02204,\n",
        "    \"concavity error\": 0.01664,\n",
        "    \"concave points error\": 0.01185,\n",
        "    \"symmetry error\": 0.02095,\n",
        "    \"fractal dimension error\": 0.004902,\n",
        "    \"worst radius\": 16.57,\n",
        "    \"worst texture\": 20.86,\n",
        "    \"worst perimeter\": 110.3,\n",
        "    \"worst area\": 812.4,\n",
        "    \"worst smoothness\": 0.1411,\n",
        "    \"worst compactness\": 0.3542,\n",
        "    \"worst concavity\": 0.2779,\n",
        "    \"worst concave points\": 0.1383,\n",
        "    \"worst symmetry\": 0.2589,\n",
        "    \"worst fractal dimension\": 0.1030\n",
        "}])\n",
        "\n",
        "# Run prediction\n",
        "pred = model_bc.predict(focus_instance_bc)\n",
        "print(\"Prediction for Patient X:\", \"Benign → No Biopsy\" if pred[0] == 1 else \"Malignant → Action Needed\")\n"
      ],
      "metadata": {
        "id": "zxZuOBrBxvre"
      },
      "execution_count": null,
      "outputs": []
    }
  ],
  "metadata": {
    "language_info": {
      "name": "python"
    },
    "colab": {
      "provenance": [],
      "include_colab_link": true
    }
  },
  "nbformat": 4,
  "nbformat_minor": 0
}